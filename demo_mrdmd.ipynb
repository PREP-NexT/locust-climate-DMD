{
 "cells": [
  {
   "cell_type": "code",
   "execution_count": null,
   "id": "5c68818e-99c5-4612-8491-e36795450ccb",
   "metadata": {},
   "outputs": [],
   "source": []
  },
  {
   "cell_type": "code",
   "execution_count": null,
   "id": "096e3248-c5bc-4743-87f6-91032efc0dd2",
   "metadata": {},
   "outputs": [],
   "source": [
    "!pip install wget --quiet"
   ]
  },
  {
   "cell_type": "code",
   "execution_count": null,
   "id": "6ddee70a-32ec-4f90-8ebc-50e43eb86514",
   "metadata": {},
   "outputs": [],
   "source": [
    "import wget\n",
    "wget.download(\"https://raw.githubusercontent.com/PREP-NexT/locust-climate-DMD/main/src/data_utils.py\", \"data_utils.py\")\n",
    "wget.download(\"https://raw.githubusercontent.com/PREP-NexT/locust-climate-DMD/main/src/mrdmd_utils.py\", \"mrdmd_utils.py\")\n",
    "wget.download(\"https://raw.githubusercontent.com/PREP-NexT/locust-climate-DMD/main/src/plot_utils.py\", \"plot_utils.py\")"
   ]
  },
  {
   "cell_type": "code",
   "execution_count": null,
   "id": "47fdf5cf-8aa8-4c08-a787-44ee203e64b6",
   "metadata": {},
   "outputs": [],
   "source": [
    "from data_utils import *\n",
    "from mrdmd_utils import *\n",
    "# from analysis_utils import *\n",
    "from plot_utils import *"
   ]
  },
  {
   "cell_type": "code",
   "execution_count": null,
   "id": "b9f73448-6dae-49b8-9c53-a6d592740137",
   "metadata": {},
   "outputs": [],
   "source": [
    "#############################  retrieve spatio-temporal patterns by mrDMD ################################\n",
    "\"\"\"\n",
    "This demo consists of dynamic extraction and interpretation in the overall framework, which is shown in\n",
    "part b-c in supplementary figure 1. Figure 2 and 4 could be reproduced by this script.\n",
    "\"\"\""
   ]
  },
  {
   "cell_type": "code",
   "execution_count": null,
   "id": "4f590dba-b1e3-462c-9aab-5fafc87e7eb0",
   "metadata": {},
   "outputs": [],
   "source": [
    "################## plot settings ##################\n",
    "plot_settings()"
   ]
  },
  {
   "cell_type": "code",
   "execution_count": null,
   "id": "3356726e-baa7-47dc-9817-e8c2ac689b2b",
   "metadata": {},
   "outputs": [],
   "source": [
    "###################### load data ##########################\n",
    "## The data is available from \"https://github.com/PREP-NexT/locust-climate-DMD\" and should be saved under \"./data\" folder.\n",
    "\n",
    "locust_type = 'all'     # this could be changed!\n",
    "\n",
    "file_name = ''.join(['timesnapshots_', locust_type, 'Nosea'])\n",
    "timess_lo, Ylat, Xlon, nosea_indices_lo = load_data_locust(file_name)\n",
    "\n",
    "\"\"\"\n",
    "Note: Change \"locust_type\" to run mrDMD for different periods, or different locust types. \n",
    "You may choose from:\n",
    "['Adults', 'Hoppers', 'Swarms', 'Bands', 'all', 'all_1st18y', 'all_2nd18y'].\n",
    "The first five are for different types of locusts or all locusts in total, \n",
    "the last two are for all locusts in period 1985-2002 or 2003-2020.\n",
    "\"\"\""
   ]
  },
  {
   "cell_type": "code",
   "execution_count": null,
   "id": "b55ec225-3c7b-40ac-b4c6-abe30e061070",
   "metadata": {},
   "outputs": [],
   "source": [
    "####################### conduct mrDMD ##############################\n",
    "max_level = 5       # do not change!\n",
    "max_cycle = 38      # do not change!\n",
    "\n",
    "if (locust_type == 'all_1st18y') | (locust_type == 'all_2nd18y'):\n",
    "    max_level = 4   # do not change!\n",
    "    max_cycle = 22  # do not change!\n",
    "\n",
    "\"\"\"\n",
    "Note: “max_cycle” affects the minimum frequency of your slow modes.\n",
    "Putting it to a larger value assure that we find the period we want.\n",
    "Here, we use max_cycle = 38 to find modes near period 1 year.\n",
    "“max_level” does not affect modes in level 0. You only need to use it in finding El Nino and La Nina events\n",
    "(max_level=5 meaning 6 levels in total, which is what we want).\n",
    "For half period data (i.e., 1985-2002 and 2003-2020), we can use a lower max_cycle and max_level.\n",
    "\"\"\"\n",
    "\n",
    "# doing mrdmd, nodes contain all nodes with modes or not at different levels and different time bins.\n",
    "nodes_lo = mrdmd(timess_lo, max_levels=max_level, max_cycles=max_cycle)\n",
    "\n",
    "# For level 0,\n",
    "Phi0_lo, _ = stitch(nodes_lo, 0)    # stitch can find all the modes at a given level (here level=0) --> \"Phi0_lo\".\n",
    "nodes0_lo = [n for n in nodes_lo if n.level == 0]   # all the nodes at level 0  --> \"nodes0_lo\".\n",
    "sLambda0_lo = nodes0_lo[0].sLambda      # corresponding eigenvalues\n",
    "freq0_lo = np.imag(np.log(sLambda0_lo)) / 2 / np.pi * 12  # corresponding frequencies, unit:[1/yr]\n",
    "period0_lo = 1 / freq0_lo  # corresponding period, unit: [yr]"
   ]
  },
  {
   "cell_type": "code",
   "execution_count": null,
   "id": "8df5ff8e-071a-4b53-af3c-828cd6562f7f",
   "metadata": {},
   "outputs": [],
   "source": [
    "################## mode selection for all modes in level 0 ###################\n",
    "# Goal: find the mode with highest power near period=1 year. See details in Methods.\n",
    "\n",
    "p = 10       # p is selected by iterative method following Proctor and Eckhoff\n",
    "df = mode_selection(p, sLambda0_lo, Phi0_lo, dt=1)"
   ]
  },
  {
   "cell_type": "code",
   "execution_count": null,
   "id": "c2d98b20-31e5-4105-a707-e34772591d6e",
   "metadata": {},
   "outputs": [],
   "source": [
    "################### visualize 1-year periodic mode (dynamic pattern) ####################\n",
    "\n",
    "mode_locust, period_locust = get_1yr_mode(locust_type, Phi0_lo, period0_lo)\n",
    "plot_mag_lo(mode=mode_locust, Xlon=Xlon, Ylat=Ylat, nosea_indices=nosea_indices_lo,\n",
    "            save_lo_mask=False, locust_type=locust_type)\n",
    "plot_phase_lo(mode_locust, period_locust, Xlon, Ylat, nosea_indices_lo, locust_type=locust_type)"
   ]
  },
  {
   "cell_type": "code",
   "execution_count": null,
   "id": "374b1a63-ee91-4f6f-8ab9-356b1f828a5e",
   "metadata": {},
   "outputs": [],
   "source": [
    "#################### retrieve locust dynamic patterns influenced by El Nino/La Nina events ######################\n",
    "\n",
    "mag_El = mag_lo_ElLa(nodes_lo, ElLa='El', plot=True, Xlon=Xlon, Ylat=Ylat, nosea_indices_lo=nosea_indices_lo)\n",
    "mag_La = mag_lo_ElLa(nodes_lo, ElLa='La', plot=True, Xlon=Xlon, Ylat=Ylat, nosea_indices_lo=nosea_indices_lo)\n",
    "\n",
    "### plot El Nino-La Nina\n",
    "mag_diff = mag_El - mag_La\n",
    "plot_mag_lo(Xlon=Xlon, Ylat=Ylat, nosea_indices=nosea_indices_lo, locust_type=locust_type, mag=mag_diff,\n",
    "                normalization=False, mag_diff=True)"
   ]
  },
  {
   "cell_type": "code",
   "execution_count": null,
   "id": "ee9937f7-d50d-4bec-b3f7-9c5a47ff72c7",
   "metadata": {},
   "outputs": [],
   "source": [
    "print(\"Finished!\")"
   ]
  }
 ],
 "metadata": {
  "kernelspec": {
   "display_name": "Python 3",
   "language": "python",
   "name": "python3"
  },
  "language_info": {
   "codemirror_mode": {
    "name": "ipython",
    "version": 3
   },
   "file_extension": ".py",
   "mimetype": "text/x-python",
   "name": "python",
   "nbconvert_exporter": "python",
   "pygments_lexer": "ipython3",
   "version": "3.8.8"
  }
 },
 "nbformat": 4,
 "nbformat_minor": 5
}
